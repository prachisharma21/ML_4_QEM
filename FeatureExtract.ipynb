{
 "cells": [
  {
   "cell_type": "code",
   "execution_count": 1,
   "metadata": {},
   "outputs": [],
   "source": [
    "import random_VQE_data_prep\n",
    "import pickle\n",
    "import pandas as pd\n",
    "import re\n",
    "import numpy as np\n",
    "from sklearn import linear_model\n",
    "from sklearn import metrics\n",
    "from sklearn.manifold import TSNE\n",
    "import matplotlib.pyplot as plt"
   ]
  },
  {
   "cell_type": "code",
   "execution_count": 4,
   "metadata": {},
   "outputs": [],
   "source": [
    "random_VQE_data_prep.data_storage(500)"
   ]
  },
  {
   "cell_type": "code",
   "execution_count": 5,
   "metadata": {},
   "outputs": [
    {
     "data": {
      "text/plain": [
       "defaultdict(None,\n",
       "            {'Quantum_circuit': [<qiskit.circuit.quantumcircuit.QuantumCircuit at 0x1427ecbd0>],\n",
       "             'num_layers': 4,\n",
       "             'obervable': 'IIZII',\n",
       "             'ideal_expectation': -0.13528096997928452,\n",
       "             'noisy_expectation': 0.11802})"
      ]
     },
     "execution_count": 5,
     "metadata": {},
     "output_type": "execute_result"
    }
   ],
   "source": [
    "file = open(\"./pickles/circ_0.pickle\", \"rb\")\n",
    "pickle.load(file)"
   ]
  },
  {
   "cell_type": "code",
   "execution_count": null,
   "metadata": {},
   "outputs": [],
   "source": [
    "def count_gate_paris(df, gates:str):\n",
    "    l = df[gates]\n",
    "    res = dict()\n",
    "    for i in range(len(l)):\n",
    "        tmp = str(l[i])\n",
    "        if tmp in res.keys():\n",
    "            res[tmp] += 1\n",
    "        else:\n",
    "            res[tmp] = 1\n",
    "    return res"
   ]
  },
  {
   "cell_type": "code",
   "execution_count": null,
   "metadata": {},
   "outputs": [],
   "source": [
    "def extract_features(path):\n",
    "    file = open(path, \"rb\")\n",
    "    dict_ = pickle.load(file)\n",
    "    #print(dict)\n",
    "    #print(len(dict[\"Quantum_circuit\"]))\n",
    "    data = dict_[\"Quantum_circuit\"][0].__dict__[\"_data\"]\n",
    "    #print(dict[\"Quantum_circuit\"][0].draw())\n",
    "    \n",
    "\n",
    "    qubits = str(data)\n",
    "    #print(qubits)\n",
    "\n",
    "    # Split input_string before each \"CircuitInstruction\"\n",
    "    instructions = qubits.split(\"CircuitInstruction\")\n",
    "\n",
    "    # Remove the empty string at the beginning (resulting from the initial split)\n",
    "    instructions = instructions[1:]\n",
    "\n",
    "    #patterns to get different values from datastring\n",
    "    pattern_nq = r\"num_qubits=(\\d+)\"\n",
    "    pattern_nc = r\"num_clbits=(\\d+)\"\n",
    "    pattern_n = r\"name='(\\w+)'\"\n",
    "    pattern_p = r\"params=\\[(.*?)\\]\"\n",
    "    pattern_gates = r\"Qubit\\(QuantumRegister\\(5, 'q'\\), (\\d+)\\)\"\n",
    "    #pattern_clb = r'clbits=\\(\\)\\)' -> possibly clbits relevant?\n",
    "\n",
    "    # Extracted numbers\n",
    "    # find all values and store them in array to build df\n",
    "    numbers = [int(match) for match in re.findall(pattern_nq, qubits)]\n",
    "    clbits = [int(match_cl) for match_cl in re.findall(pattern_nq, qubits)]\n",
    "    name = [match_name for match_name in re.findall(pattern_n, qubits)]\n",
    "    params = [match_p for match_p in re.findall(pattern_p, qubits)]\n",
    "\n",
    "    # loop over all Instructions to get per instruction a list of used qubits\n",
    "    gates_all = []\n",
    "    for instr in enumerate(instructions):\n",
    "        gates = [match_gates for match_gates in re.findall(pattern_gates, str(instr))]\n",
    "        gates_all.append(gates)\n",
    "\n",
    "\n",
    "    #create new df to show parameters\n",
    "    df_new =pd.DataFrame({'name': name, 'num_qubits': numbers, 'num_clbits': clbits, 'params': params, 'gates': gates_all})\n",
    "    df_new = df_new.sort_values(by='num_qubits', ascending=False)\n",
    "    df_new = df_new[df_new['num_qubits'] == 2].reset_index()\n",
    "\n",
    "    res = dict()\n",
    "    res['noisy_expectation'] = dict_['noisy_expectation']\n",
    "    res['num_layers'] = dict_['num_layers']\n",
    "    #res['observable'] = dict_['obervable']\n",
    "    tmp = count_gate_paris(df_new, 'gates')\n",
    "    for i in tmp.keys():\n",
    "        res['count_' + i] = tmp[i]\n",
    "    res['N2QG'] = len(df_new)\n",
    "    res['target'] = dict_['ideal_expectation']\n",
    "\n",
    "    return res "
   ]
  },
  {
   "cell_type": "code",
   "execution_count": null,
   "metadata": {},
   "outputs": [
    {
     "ename": "TypeError",
     "evalue": "CircuitInstruction.__new__() missing 1 required positional argument: 'operation'",
     "output_type": "error",
     "traceback": [
      "\u001b[0;31m---------------------------------------------------------------------------\u001b[0m",
      "\u001b[0;31mTypeError\u001b[0m                                 Traceback (most recent call last)",
      "Cell \u001b[0;32mIn[17], line 4\u001b[0m\n\u001b[1;32m      2\u001b[0m a \u001b[38;5;241m=\u001b[39m \u001b[38;5;28mlist\u001b[39m()\n\u001b[1;32m      3\u001b[0m \u001b[38;5;28;01mfor\u001b[39;00m i \u001b[38;5;129;01min\u001b[39;00m \u001b[38;5;28mrange\u001b[39m(\u001b[38;5;241m1000\u001b[39m):\n\u001b[0;32m----> 4\u001b[0m     a\u001b[38;5;241m.\u001b[39mappend(\u001b[43mextract_features\u001b[49m\u001b[43m(\u001b[49m\u001b[38;5;124;43mf\u001b[39;49m\u001b[38;5;124;43m\"\u001b[39;49m\u001b[38;5;124;43m./../pickles/circ_\u001b[39;49m\u001b[38;5;132;43;01m{\u001b[39;49;00m\u001b[43mi\u001b[49m\u001b[38;5;132;43;01m}\u001b[39;49;00m\u001b[38;5;124;43m.pickle\u001b[39;49m\u001b[38;5;124;43m\"\u001b[39;49m\u001b[43m)\u001b[49m)\n\u001b[1;32m      5\u001b[0m df \u001b[38;5;241m=\u001b[39m pd\u001b[38;5;241m.\u001b[39mDataFrame(a)\n\u001b[1;32m      6\u001b[0m display(df)\n",
      "Cell \u001b[0;32mIn[16], line 3\u001b[0m, in \u001b[0;36mextract_features\u001b[0;34m(path)\u001b[0m\n\u001b[1;32m      1\u001b[0m \u001b[38;5;28;01mdef\u001b[39;00m \u001b[38;5;21mextract_features\u001b[39m(path):\n\u001b[1;32m      2\u001b[0m     file \u001b[38;5;241m=\u001b[39m \u001b[38;5;28mopen\u001b[39m(path, \u001b[38;5;124m\"\u001b[39m\u001b[38;5;124mrb\u001b[39m\u001b[38;5;124m\"\u001b[39m)\n\u001b[0;32m----> 3\u001b[0m     dict_ \u001b[38;5;241m=\u001b[39m \u001b[43mpickle\u001b[49m\u001b[38;5;241;43m.\u001b[39;49m\u001b[43mload\u001b[49m\u001b[43m(\u001b[49m\u001b[43mfile\u001b[49m\u001b[43m)\u001b[49m\n\u001b[1;32m      4\u001b[0m     \u001b[38;5;66;03m#print(dict)\u001b[39;00m\n\u001b[1;32m      5\u001b[0m     \u001b[38;5;66;03m#print(len(dict[\"Quantum_circuit\"]))\u001b[39;00m\n\u001b[1;32m      6\u001b[0m     data \u001b[38;5;241m=\u001b[39m dict_[\u001b[38;5;124m\"\u001b[39m\u001b[38;5;124mQuantum_circuit\u001b[39m\u001b[38;5;124m\"\u001b[39m][\u001b[38;5;241m0\u001b[39m]\u001b[38;5;241m.\u001b[39m\u001b[38;5;18m__dict__\u001b[39m[\u001b[38;5;124m\"\u001b[39m\u001b[38;5;124m_data\u001b[39m\u001b[38;5;124m\"\u001b[39m]\n",
      "\u001b[0;31mTypeError\u001b[0m: CircuitInstruction.__new__() missing 1 required positional argument: 'operation'"
     ]
    }
   ],
   "source": [
    "# quick and dirty test for r2-score without using observable\n",
    "a = list()\n",
    "for i in range(1000):\n",
    "    a.append(extract_features(f\"./pickles/circ_{i}.pickle\"))\n",
    "df = pd.DataFrame(a)\n",
    "display(df)\n",
    "\n",
    "train_x = df[:900]['noisy_expectation'].to_numpy().reshape(-1, 1)\n",
    "train_y = df[:900]['target']\n",
    "\n",
    "test_x = df[900:]['noisy_expectation'].to_numpy().reshape(-1, 1)\n",
    "test_y = df[900:]['target']\n",
    "\n",
    "alpha = 0\n",
    "model = linear_model.Ridge(alpha=alpha)\n",
    "model = model.fit(train_x, train_y)\n",
    "print('Ridge with alpha = ' + str(alpha) + ': ' + str(metrics.r2_score(test_y, model.predict(test_x))))\n",
    "\n",
    "model = linear_model.LinearRegression()\n",
    "model = model.fit(train_x, train_y)\n",
    "print('OLS: ' + str(metrics.r2_score(test_y, model.predict(test_x))))\n",
    "\n",
    "tsne = TSNE(n_components=1)\n",
    "new_data = tsne.fit_transform(df.drop(columns=['target']))\n",
    "\n",
    "fig = plt.figure()\n",
    "ax = fig.add_subplot()#projection='3d')\n",
    "ax.scatter(df['noisy_expectation'], df['target'])#[new_data[i][1] for i in range(len(new_data))], df['target'])\n",
    "ax.plot(test_x, model.predict(test_x), color='red')\n",
    "plt.show()"
   ]
  },
  {
   "cell_type": "code",
   "execution_count": null,
   "metadata": {},
   "outputs": [
    {
     "ename": "",
     "evalue": "",
     "output_type": "error",
     "traceback": [
      "\u001b[1;31mRunning cells with 'Test (Python 3.10.14)' requires the ipykernel package.\n",
      "\u001b[1;31mRun the following command to install 'ipykernel' into the Python environment. \n",
      "\u001b[1;31mCommand: 'conda install -n Test ipykernel --update-deps --force-reinstall'"
     ]
    }
   ],
   "source": [
    "import matplotlib.pyplot as plt\n",
    "import numpy as np\n",
    "\n",
    "# Fixing random state for reproducibility\n",
    "np.random.seed(19680801)\n",
    "\n",
    "\n",
    "def randrange(n, vmin, vmax):\n",
    "    \"\"\"\n",
    "    Helper function to make an array of random numbers having shape (n, )\n",
    "    with each number distributed Uniform(vmin, vmax).\n",
    "    \"\"\"\n",
    "    return (vmax - vmin)*np.random.rand(n) + vmin\n",
    "\n",
    "fig = plt.figure()\n",
    "ax = fig.add_subplot(projection='3d')\n",
    "\n",
    "n = 100\n",
    "\n",
    "# For each set of style and range settings, plot n random points in the box\n",
    "# defined by x in [23, 32], y in [0, 100], z in [zlow, zhigh].\n",
    "for m, zlow, zhigh in [('o', -50, -25), ('^', -30, -5)]:\n",
    "    xs = randrange(n, 23, 32)\n",
    "    ys = randrange(n, 0, 100)\n",
    "    zs = randrange(n, zlow, zhigh)\n",
    "    ax.scatter(xs, ys, zs, marker=m)\n",
    "\n",
    "ax.set_xlabel('X Label')\n",
    "ax.set_ylabel('Y Label')\n",
    "ax.set_zlabel('Z Label')\n",
    "\n",
    "plt.show()"
   ]
  },
  {
   "cell_type": "code",
   "execution_count": null,
   "metadata": {},
   "outputs": [
    {
     "ename": "",
     "evalue": "",
     "output_type": "error",
     "traceback": [
      "\u001b[1;31mRunning cells with 'Test (Python 3.10.14)' requires the ipykernel package.\n",
      "\u001b[1;31mRun the following command to install 'ipykernel' into the Python environment. \n",
      "\u001b[1;31mCommand: 'conda install -n Test ipykernel --update-deps --force-reinstall'"
     ]
    }
   ],
   "source": []
  }
 ],
 "metadata": {
  "kernelspec": {
   "display_name": "ProjectSeminar",
   "language": "python",
   "name": "python3"
  },
  "language_info": {
   "codemirror_mode": {
    "name": "ipython",
    "version": 3
   },
   "file_extension": ".py",
   "mimetype": "text/x-python",
   "name": "python",
   "nbconvert_exporter": "python",
   "pygments_lexer": "ipython3",
   "version": "3.11.9"
  }
 },
 "nbformat": 4,
 "nbformat_minor": 2
}
