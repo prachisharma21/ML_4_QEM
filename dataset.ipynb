{
 "cells": [
  {
   "cell_type": "code",
   "execution_count": 1,
   "metadata": {},
   "outputs": [],
   "source": [
    "import random_VQE_data_prep as data\n",
    "import numpy as np\n",
    "import pandas as pd\n",
    "from sklearn.model_selection import KFold \n",
    "import os\n",
    "import pickle\n",
    "import re"
   ]
  },
  {
   "cell_type": "code",
   "execution_count": 2,
   "metadata": {},
   "outputs": [],
   "source": [
    "def count_gate_paris(df, gates:str):\n",
    "    l = df[gates]\n",
    "    res = dict()\n",
    "    for i in range(len(l)):\n",
    "        tmp = str(l[i])\n",
    "        if tmp in res.keys():\n",
    "            res[tmp] += 1\n",
    "        else:\n",
    "            res[tmp] = 1\n",
    "    return res"
   ]
  },
  {
   "cell_type": "markdown",
   "metadata": {},
   "source": [
    "`extract_features(path)` as function to store all relevant features from the circuit at the given path into a df to perform linear regression"
   ]
  },
  {
   "cell_type": "code",
   "execution_count": 3,
   "metadata": {},
   "outputs": [],
   "source": [
    "def extract_features(path):\n",
    "    file = open(path, \"rb\")\n",
    "    dict_ = pickle.load(file)\n",
    "    #print(dict)\n",
    "    #print(len(dict[\"Quantum_circuit\"]))\n",
    "    data = dict_[\"Quantum_circuit\"][0].__dict__[\"_data\"]\n",
    "    #print(dict[\"Quantum_circuit\"][0].draw())\n",
    "    \n",
    "\n",
    "    qubits = str(data)\n",
    "    #print(qubits)\n",
    "\n",
    "    # Split input_string before each \"CircuitInstruction\"\n",
    "    instructions = qubits.split(\"CircuitInstruction\")\n",
    "\n",
    "    # Remove the empty string at the beginning (resulting from the initial split)\n",
    "    instructions = instructions[1:]\n",
    "\n",
    "    #patterns to get different values from datastring\n",
    "    pattern_nq = r\"num_qubits=(\\d+)\"\n",
    "    pattern_nc = r\"num_clbits=(\\d+)\"\n",
    "    pattern_n = r\"name='(\\w+)'\"\n",
    "    pattern_p = r\"params=\\[(.*?)\\]\"\n",
    "    pattern_gates = r\"Qubit\\(QuantumRegister\\(5, 'q'\\), (\\d+)\\)\"\n",
    "    #pattern_clb = r'clbits=\\(\\)\\)' -> possibly clbits relevant?\n",
    "\n",
    "    # Extracted numbers\n",
    "    # find all values and store them in array to build df\n",
    "    numbers = [int(match) for match in re.findall(pattern_nq, qubits)]\n",
    "    clbits = [int(match_cl) for match_cl in re.findall(pattern_nq, qubits)]\n",
    "    name = [match_name for match_name in re.findall(pattern_n, qubits)]\n",
    "    params = [match_p for match_p in re.findall(pattern_p, qubits)]\n",
    "\n",
    "    # loop over all Instructions to get per instruction a list of used qubits\n",
    "    gates_all = []\n",
    "    for instr in enumerate(instructions):\n",
    "        gates = [match_gates for match_gates in re.findall(pattern_gates, str(instr))]\n",
    "        gates_all.append(gates)\n",
    "\n",
    "\n",
    "    #create new df to show parameters\n",
    "    df_new =pd.DataFrame({'name': name, 'num_qubits': numbers, 'num_clbits': clbits, 'params': params, 'gates': gates_all})\n",
    "    df_new = df_new.sort_values(by='num_qubits', ascending=False)\n",
    "    df_new = df_new[df_new['num_qubits'] == 2].reset_index()\n",
    "\n",
    "    res = dict()\n",
    "    res['noisy_expectation'] = dict_['noisy_expectation']\n",
    "    res['num_layers'] = dict_['num_layers']\n",
    "    #res['observable'] = dict_['obervable']\n",
    "    # tmp = count_gate_paris(df_new, 'gates')\n",
    "    # for i in tmp.keys():\n",
    "    #     res['count_' + i] = tmp[i]\n",
    "    res['target'] = dict_['ideal_expectation']\n",
    "\n",
    "    return res "
   ]
  },
  {
   "cell_type": "markdown",
   "metadata": {},
   "source": [
    "Split the generated data into an validation and train/test set. `train_frac` can be chosen and decides how many percent of the data are used to train and test the model."
   ]
  },
  {
   "cell_type": "code",
   "execution_count": 4,
   "metadata": {},
   "outputs": [],
   "source": [
    "def split_data(path=\"./pickles\", train_frac = 0.8):\n",
    "    ### split data into evaluation and training set\n",
    "    assert train_frac < 1\n",
    "    assert train_frac >= 0\n",
    "\n",
    "    # shuffle data randomly to make different datasets\n",
    "    all_files = os.listdir(path)\n",
    "    # data_size = data.shape[0] # data.shape[0] changed to fit dictionary\n",
    "    # indices = np.arange(data_size)  \n",
    "    np.random.shuffle(all_files)\n",
    "    #data_shuffled = data[indices]\n",
    "\n",
    "    # split shuffeled data into test, train and eval according to fractions\n",
    "    idx_eval = int(train_frac * len(all_files))\n",
    "\n",
    "    files_train = all_files[:idx_eval]\n",
    "    files_eval = all_files[idx_eval:]\n",
    "\n",
    "    return files_train, files_eval\n",
    "\n",
    "files_train, files_eval = split_data()"
   ]
  },
  {
   "cell_type": "markdown",
   "metadata": {},
   "source": [
    "`file_to_data(files)` takes a list of circuits and generates the data using `extract_features(path)`"
   ]
  },
  {
   "cell_type": "code",
   "execution_count": 6,
   "metadata": {},
   "outputs": [],
   "source": [
    "def file_to_data(files):\n",
    "    a = list()\n",
    "    for i, idx in enumerate(files):\n",
    "        a.append(extract_features(f\"./pickles/{idx}\"))\n",
    "    df = pd.DataFrame(a)\n",
    "    return df\n",
    "\n",
    "df_eval = file_to_data(files_eval)\n",
    "df_train = file_to_data(files_train)"
   ]
  },
  {
   "cell_type": "markdown",
   "metadata": {},
   "source": [
    "`split_data_kfold(df_train)` returns all the training and test data, as features (X) and the value to predict (y)"
   ]
  },
  {
   "cell_type": "code",
   "execution_count": 8,
   "metadata": {},
   "outputs": [],
   "source": [
    "def split_data_kfold(df_train):\n",
    "    kf = KFold(n_splits=5, shuffle=True, random_state=42)\n",
    "    X_train = []\n",
    "    X_test = []\n",
    "    y_train = []\n",
    "    y_test = []\n",
    "\n",
    "    X = df_train.drop(columns=['target'])\n",
    "    y = df_train['target']\n",
    "    \n",
    "    for train_index, test_index in kf.split(df_train):\n",
    "        X_train.append(X.iloc[train_index])\n",
    "        X_test.append(X.iloc[test_index])\n",
    "        y_train.append(y.iloc[train_index])\n",
    "        y_test.append(y.iloc[test_index])\n",
    "        \n",
    "    return X_train, X_test, y_train, y_test\n",
    "\n",
    "# Ensure the data is correct and check the type of first element\n",
    "X_train, X_test, y_train, y_test = split_data_kfold(df_train)\n",
    "#print(X_train[0], y_train[0])"
   ]
  },
  {
   "cell_type": "markdown",
   "metadata": {},
   "source": [
    "`Linear_Reg(data)` returns the best model of the k = 5 splits according to the R2"
   ]
  },
  {
   "cell_type": "code",
   "execution_count": 9,
   "metadata": {},
   "outputs": [
    {
     "name": "stdout",
     "output_type": "stream",
     "text": [
      "Fold 0 - MSE: 0.0942, R2: 0.5038\n",
      "Fold 1 - MSE: 0.0868, R2: 0.5125\n",
      "Fold 2 - MSE: 0.0763, R2: 0.5303\n",
      "Fold 3 - MSE: 0.0411, R2: 0.7186\n",
      "Fold 4 - MSE: 0.1111, R2: 0.2747\n",
      "MSE: 0.04105085877049193; R2: 0.7185984994047463\n"
     ]
    }
   ],
   "source": [
    "from sklearn.linear_model import LinearRegression\n",
    "from sklearn.metrics import mean_squared_error, r2_score\n",
    "\n",
    "def Linear_Reg(X_train, X_test, y_train, y_test):\n",
    "    # returns best fitting linear model of all trained models based on MSE\n",
    "    # X_train, y_train, X_test, y_test are numpy arrays\n",
    "    # returns best model, MSE, R2\n",
    "    best_model = None\n",
    "    best_model_MSE = float('inf')\n",
    "    best_model_R2 = float('-inf')\n",
    "    \n",
    "    for i in range(len(X_train)):\n",
    "        if X_train[i].empty or y_train[i].empty:\n",
    "            print(f\"Skipping fold {i} due to empty training data.\")\n",
    "            continue       \n",
    "        \n",
    "        model = LinearRegression()\n",
    "        model.fit(X_train[i], y_train[i])\n",
    "        y_pred = model.predict(X_test[i])\n",
    "\n",
    "        MSE = mean_squared_error(y_test[i], y_pred)\n",
    "        R2 = r2_score(y_test[i], y_pred)\n",
    "\n",
    "        print(f'Fold {i} - MSE: {MSE:.4f}, R2: {R2:.4f}')\n",
    "        \n",
    "        if R2 > best_model_R2:\n",
    "            best_model = model\n",
    "            best_model_MSE = MSE\n",
    "            best_model_R2 = R2\n",
    "    return best_model, best_model_MSE, best_model_R2\n",
    "\n",
    "best_model, MSE, R2 = Linear_Reg(X_train, X_test, y_train, y_test)\n",
    "print (f'MSE: {MSE}; R2: {R2}')"
   ]
  },
  {
   "cell_type": "code",
   "execution_count": 10,
   "metadata": {},
   "outputs": [
    {
     "name": "stdout",
     "output_type": "stream",
     "text": [
      "Evaluation of best model - MSE: 0.0553, R2: 0.6302\n",
      "[ 1.08336581 -0.01009415]\n",
      "-0.04444113624330952\n"
     ]
    }
   ],
   "source": [
    "X_eval = df_eval.drop(columns=['target']).reindex(columns=X_train[0].columns)\n",
    "y_eval = df_eval['target']\n",
    "\n",
    "y_pred_eval = best_model.predict(X_eval)\n",
    "\n",
    "MSE = mean_squared_error(y_eval, y_pred_eval)\n",
    "R2 = r2_score(y_eval, y_pred_eval)\n",
    "\n",
    "print(f'Evaluation of best model - MSE: {MSE:.4f}, R2: {R2:.4f}')\n",
    "print(best_model.coef_)\n",
    "print(best_model.intercept_)\n"
   ]
  },
  {
   "cell_type": "code",
   "execution_count": 11,
   "metadata": {},
   "outputs": [
    {
     "name": "stdout",
     "output_type": "stream",
     "text": [
      "0    0.130240\n",
      "1   -0.048361\n",
      "2    0.148903\n",
      "3   -0.383233\n",
      "4    0.147561\n",
      "5    0.598581\n",
      "6   -0.577079\n",
      "7    0.105804\n",
      "8   -0.531817\n",
      "9   -0.029520\n",
      "Name: target, dtype: float64 [-0.23478004 -0.08031374 -0.04594373 -0.34321931  0.19488284  0.56501996\n",
      " -0.11045298  0.12860252 -0.46508194 -0.02903285]\n"
     ]
    }
   ],
   "source": [
    "print(y_eval[:10], y_pred_eval[:10])"
   ]
  },
  {
   "cell_type": "code",
   "execution_count": 12,
   "metadata": {},
   "outputs": [
    {
     "data": {
      "text/plain": [
       "Text(0.5, 1.0, 'Correlation Matrix')"
      ]
     },
     "execution_count": 12,
     "metadata": {},
     "output_type": "execute_result"
    },
    {
     "data": {
      "image/png": "[encoded data removed]",
      "text/plain": [
       "<Figure size 1000x1000 with 2 Axes>"
      ]
     },
     "metadata": {},
     "output_type": "display_data"
    }
   ],
   "source": [
    "from matplotlib import pyplot as plt\n",
    "\n",
    "f = plt.figure(figsize=(10, 10))\n",
    "plt.matshow(df_train.corr(), fignum=f.number)\n",
    "plt.xticks(range(df_train.select_dtypes(['number']).shape[1]), df_train.select_dtypes(['number']).columns, fontsize=14, rotation=45)\n",
    "plt.yticks(range(df_train.select_dtypes(['number']).shape[1]), df_train.select_dtypes(['number']).columns, fontsize=14)\n",
    "cb = plt.colorbar()\n",
    "cb.ax.tick_params(labelsize=8)\n",
    "plt.title('Correlation Matrix', fontsize=10)"
   ]
  },
  {
   "cell_type": "markdown",
   "metadata": {},
   "source": [
    "Random Forest"
   ]
  },
  {
   "cell_type": "code",
   "execution_count": 22,
   "metadata": {},
   "outputs": [
    {
     "name": "stdout",
     "output_type": "stream",
     "text": [
      "Fold 0 - MSE: 0.1308, R2: 0.3115\n",
      "Fold 1 - MSE: 0.1116, R2: 0.3733\n",
      "Fold 2 - MSE: 0.1044, R2: 0.3577\n",
      "Fold 3 - MSE: 0.0675, R2: 0.5371\n",
      "Fold 4 - MSE: 0.1440, R2: 0.0601\n",
      "MSE: 0.06753149967948971; R2: 0.5370750840195254\n",
      "Evaluation of best model - MSE: 0.0791, R2: 0.4707\n"
     ]
    }
   ],
   "source": [
    "from sklearn.ensemble import RandomForestRegressor\n",
    "\n",
    "\n",
    "def Random_Forest(X_train, X_test, y_train, y_test):\n",
    "    # returns best fitting linear model of all trained models based on MSE\n",
    "    # X_train, y_train, X_test, y_test are numpy arrays\n",
    "    # returns best model, MSE, R2\n",
    "    best_model = None\n",
    "    best_model_MSE = float('inf')\n",
    "    best_model_R2 = float('-inf')\n",
    "    \n",
    "    for i in range(len(X_train)): \n",
    "        rf = RandomForestRegressor()\n",
    "        rf.fit(X_train[i], y_train[i])\n",
    "        y_pred = rf.predict(X_test[i])\n",
    "\n",
    "        MSE = mean_squared_error(y_test[i], y_pred)\n",
    "        R2 = r2_score(y_test[i], y_pred)\n",
    "\n",
    "        print(f'Fold {i} - MSE: {MSE:.4f}, R2: {R2:.4f}')\n",
    "        \n",
    "        if R2 > best_model_R2:\n",
    "            best_model = rf\n",
    "            best_model_MSE = MSE\n",
    "            best_model_R2 = R2\n",
    "    return best_model, best_model_MSE, best_model_R2\n",
    "\n",
    "best_model, MSE, R2 = Random_Forest(X_train, X_test, y_train, y_test)\n",
    "print (f'MSE: {MSE}; R2: {R2}')\n",
    "\n",
    "y_pred_eval = best_model.predict(X_eval)\n",
    "\n",
    "MSE = mean_squared_error(y_eval, y_pred_eval)\n",
    "R2 = r2_score(y_eval, y_pred_eval)\n",
    "\n",
    "print(f'Evaluation of best model - MSE: {MSE:.4f}, R2: {R2:.4f}')"
   ]
  },
  {
   "cell_type": "markdown",
   "metadata": {},
   "source": [
    "XGboost"
   ]
  },
  {
   "cell_type": "code",
   "execution_count": 14,
   "metadata": {},
   "outputs": [],
   "source": [
    "# KFold cross-validation\n",
    "def split_data_kfold_xg(df_train):\n",
    "    kf = KFold(n_splits=5, shuffle=True, random_state=42)\n",
    "    X_train_folds = []\n",
    "    X_test_folds = []\n",
    "    y_train_folds = []\n",
    "    y_test_folds = []\n",
    "\n",
    "    X = df_train.drop(columns=['target'])\n",
    "    y = df_train['target']\n",
    "\n",
    "    for train_index, test_index in kf.split(df_train):\n",
    "        X_train_folds.append(X.iloc[train_index])\n",
    "        X_test_folds.append(X.iloc[test_index])\n",
    "        y_train_folds.append(y.iloc[train_index])\n",
    "        y_test_folds.append(y.iloc[test_index])\n",
    "\n",
    "    return X_train_folds, X_test_folds, y_train_folds, y_test_folds\n",
    "\n",
    "X_train_folds, X_test_folds, y_train_folds, y_test_folds = split_data_kfold_xg(df_train)"
   ]
  },
  {
   "cell_type": "code",
   "execution_count": 21,
   "metadata": {},
   "outputs": [
    {
     "name": "stdout",
     "output_type": "stream",
     "text": [
      "Best model - MSE: 0.1378, R2: 0.1004\n",
      "Evaluation of best model - MSE: 0.1068, R2: 0.2854\n"
     ]
    }
   ],
   "source": [
    "from xgboost import XGBRegressor\n",
    "\n",
    "for X_train_xg, X_test_xg, y_train_xg, y_test_xg in zip(X_train_folds, X_test_folds, y_train_folds, y_test_folds):\n",
    "    model = XGBRegressor()\n",
    "    model.fit(X_train_xg, y_train_xg)\n",
    "\n",
    "    y_pred_train = model.predict(X_train_xg)\n",
    "    y_pred_test = model.predict(X_test_xg)\n",
    "\n",
    "    best_model_mse = float(\"inf\")\n",
    "    best_model_r2 = float(\"-inf\")\n",
    "    mse_test = mean_squared_error(y_test_xg, y_pred_test)\n",
    "    r2_test = r2_score(y_test_xg, y_pred_test)\n",
    "\n",
    "    if mse_test < best_model_mse:\n",
    "        best_model = model\n",
    "        best_model_mse = mse_test\n",
    "        best_model_r2 = r2_test\n",
    "\n",
    "# Evaluate the best model on the evaluation set\n",
    "y_pred_eval = best_model.predict(X_eval)\n",
    "mse_eval = mean_squared_error(y_eval, y_pred_eval)\n",
    "r2_eval = r2_score(y_eval, y_pred_eval)\n",
    "\n",
    "print(f'Best model - MSE: {best_model_mse:.4f}, R2: {best_model_r2:.4f}')\n",
    "print(f'Evaluation of best model - MSE: {mse_eval:.4f}, R2: {r2_eval:.4f}')"
   ]
  },
  {
   "cell_type": "code",
   "execution_count": 16,
   "metadata": {},
   "outputs": [
    {
     "data": {
      "text/html": [
       "<pre style=\"word-wrap: normal;white-space: pre;background: #fff0;line-height: 1.1;font-family: &quot;Courier New&quot;,Courier,monospace\">global phase: π/4\n",
       "         ┌─────────┐┌────┐┌─────────┐ ░ ┌────────────┐┌────┐┌──────────────┐»\n",
       "q_0 -> 0 ┤ Rz(π/2) ├┤ √X ├┤ Rz(π/2) ├─░─┤ Rz(1.4144) ├┤ √X ├┤ Rz(-0.27104) ├»\n",
       "         ├─────────┤├────┤├─────────┤ ░ ├────────────┤├────┤├──────────────┤»\n",
       "q_1 -> 1 ┤ Rz(π/2) ├┤ √X ├┤ Rz(π/2) ├─░─┤ Rz(1.4144) ├┤ √X ├┤ Rz(-0.27104) ├»\n",
       "         ├─────────┤├────┤├─────────┤ ░ ├────────────┤├────┤├──────────────┤»\n",
       "q_2 -> 2 ┤ Rz(π/2) ├┤ √X ├┤ Rz(π/2) ├─░─┤ Rz(1.4144) ├┤ √X ├┤ Rz(-0.27104) ├»\n",
       "         ├─────────┤├────┤├─────────┤ ░ ├────────────┤├────┤├──────────────┤»\n",
       "q_3 -> 3 ┤ Rz(π/2) ├┤ √X ├┤ Rz(π/2) ├─░─┤ Rz(1.4144) ├┤ √X ├┤ Rz(-0.27104) ├»\n",
       "         ├─────────┤├────┤├─────────┤ ░ ├────────────┤├────┤├──────────────┤»\n",
       "q_4 -> 4 ┤ Rz(π/2) ├┤ √X ├┤ Rz(π/2) ├─░─┤ Rz(1.4144) ├┤ √X ├┤ Rz(-0.27104) ├»\n",
       "         └─────────┘└────┘└─────────┘ ░ └────────────┘└────┘└──────────────┘»\n",
       " meas: 5/═══════════════════════════════════════════════════════════════════»\n",
       "                                                                            »\n",
       "«         ┌────┐┌─────────┐                                                  »\n",
       "«q_0 -> 0 ┤ √X ├┤ Rz(π/2) ├──■───────────────────■───────────────────────────»\n",
       "«         ├────┤├─────────┤┌─┴─┐┌─────────────┐┌─┴─┐                         »\n",
       "«q_1 -> 1 ┤ √X ├┤ Rz(π/2) ├┤ X ├┤ Rz(-2.5975) ├┤ X ├──■───────────────────■──»\n",
       "«         ├────┤├─────────┤└───┘└─────────────┘└───┘┌─┴─┐┌─────────────┐┌─┴─┐»\n",
       "«q_2 -> 2 ┤ √X ├┤ Rz(π/2) ├─────────────────────────┤ X ├┤ Rz(-2.5975) ├┤ X ├»\n",
       "«         ├────┤├─────────┤                         └───┘└─────────────┘└───┘»\n",
       "«q_3 -> 3 ┤ √X ├┤ Rz(π/2) ├──■───────────────────■───────────────────────────»\n",
       "«         ├────┤├─────────┤┌─┴─┐┌─────────────┐┌─┴─┐                         »\n",
       "«q_4 -> 4 ┤ √X ├┤ Rz(π/2) ├┤ X ├┤ Rz(-2.5975) ├┤ X ├─────────────────────────»\n",
       "«         └────┘└─────────┘└───┘└─────────────┘└───┘                         »\n",
       "« meas: 5/═══════════════════════════════════════════════════════════════════»\n",
       "«                                                                            »\n",
       "«                                   ░ ┌─────────────┐┌────┐┌─────────────┐»\n",
       "«q_0 -> 0 ──────────────────────────░─┤ Rz(0.94357) ├┤ √X ├┤ Rz(-2.0169) ├»\n",
       "«                                   ░ ├─────────────┤├────┤├─────────────┤»\n",
       "«q_1 -> 1 ──■───────────────────■───░─┤ Rz(0.94357) ├┤ √X ├┤ Rz(-2.0169) ├»\n",
       "«           │                   │   ░ ├─────────────┤├────┤├─────────────┤»\n",
       "«q_2 -> 2 ──┼───────────────────┼───░─┤ Rz(0.94357) ├┤ √X ├┤ Rz(-2.0169) ├»\n",
       "«         ┌─┴─┐┌─────────────┐┌─┴─┐ ░ ├─────────────┤├────┤├─────────────┤»\n",
       "«q_3 -> 3 ┤ X ├┤ Rz(-2.5975) ├┤ X ├─░─┤ Rz(0.94357) ├┤ √X ├┤ Rz(-2.0169) ├»\n",
       "«         └───┘└─────────────┘└───┘ ░ ├─────────────┤├────┤├─────────────┤»\n",
       "«q_4 -> 4 ──────────────────────────░─┤ Rz(0.94357) ├┤ √X ├┤ Rz(-2.0169) ├»\n",
       "«                                   ░ └─────────────┘└────┘└─────────────┘»\n",
       "« meas: 5/════════════════════════════════════════════════════════════════»\n",
       "«                                                                         »\n",
       "«         ┌────┐┌──────────┐                                                  »\n",
       "«q_0 -> 0 ┤ √X ├┤ Rz(-π/2) ├──■───────────────────■───────────────────────────»\n",
       "«         ├────┤├──────────┤┌─┴─┐┌─────────────┐┌─┴─┐                         »\n",
       "«q_1 -> 1 ┤ √X ├┤ Rz(-π/2) ├┤ X ├┤ Rz(-3.0252) ├┤ X ├──■───────────────────■──»\n",
       "«         ├────┤├──────────┤└───┘└─────────────┘└───┘┌─┴─┐┌─────────────┐┌─┴─┐»\n",
       "«q_2 -> 2 ┤ √X ├┤ Rz(-π/2) ├─────────────────────────┤ X ├┤ Rz(-3.0252) ├┤ X ├»\n",
       "«         ├────┤├──────────┤                         └───┘└─────────────┘└───┘»\n",
       "«q_3 -> 3 ┤ √X ├┤ Rz(-π/2) ├──■───────────────────■───────────────────────────»\n",
       "«         ├────┤├──────────┤┌─┴─┐┌─────────────┐┌─┴─┐                         »\n",
       "«q_4 -> 4 ┤ √X ├┤ Rz(-π/2) ├┤ X ├┤ Rz(-3.0252) ├┤ X ├─────────────────────────»\n",
       "«         └────┘└──────────┘└───┘└─────────────┘└───┘                         »\n",
       "« meas: 5/════════════════════════════════════════════════════════════════════»\n",
       "«                                                                             »\n",
       "«                                   ░ ┌─────────────┐┌────┐┌──────────────┐»\n",
       "«q_0 -> 0 ──────────────────────────░─┤ Rz(-2.1709) ├┤ √X ├┤ Rz(-0.51865) ├»\n",
       "«                                   ░ ├─────────────┤├────┤├──────────────┤»\n",
       "«q_1 -> 1 ──■───────────────────■───░─┤ Rz(-2.1709) ├┤ √X ├┤ Rz(-0.51865) ├»\n",
       "«           │                   │   ░ ├─────────────┤├────┤├──────────────┤»\n",
       "«q_2 -> 2 ──┼───────────────────┼───░─┤ Rz(-2.1709) ├┤ √X ├┤ Rz(-0.51865) ├»\n",
       "«         ┌─┴─┐┌─────────────┐┌─┴─┐ ░ ├─────────────┤├────┤├──────────────┤»\n",
       "«q_3 -> 3 ┤ X ├┤ Rz(-3.0252) ├┤ X ├─░─┤ Rz(-2.1709) ├┤ √X ├┤ Rz(-0.51865) ├»\n",
       "«         └───┘└─────────────┘└───┘ ░ ├─────────────┤├────┤├──────────────┤»\n",
       "«q_4 -> 4 ──────────────────────────░─┤ Rz(-2.1709) ├┤ √X ├┤ Rz(-0.51865) ├»\n",
       "«                                   ░ └─────────────┘└────┘└──────────────┘»\n",
       "« meas: 5/═════════════════════════════════════════════════════════════════»\n",
       "«                                                                          »\n",
       "«         ┌────┐┌─────────┐                                                »\n",
       "«q_0 -> 0 ┤ √X ├┤ Rz(π/2) ├──■──────────────────■──────────────────────────»\n",
       "«         ├────┤├─────────┤┌─┴─┐┌────────────┐┌─┴─┐                        »\n",
       "«q_1 -> 1 ┤ √X ├┤ Rz(π/2) ├┤ X ├┤ Rz(1.6441) ├┤ X ├──■──────────────────■──»\n",
       "«         ├────┤├─────────┤└───┘└────────────┘└───┘┌─┴─┐┌────────────┐┌─┴─┐»\n",
       "«q_2 -> 2 ┤ √X ├┤ Rz(π/2) ├────────────────────────┤ X ├┤ Rz(1.6441) ├┤ X ├»\n",
       "«         ├────┤├─────────┤                        └───┘└────────────┘└───┘»\n",
       "«q_3 -> 3 ┤ √X ├┤ Rz(π/2) ├──■──────────────────■──────────────────────────»\n",
       "«         ├────┤├─────────┤┌─┴─┐┌────────────┐┌─┴─┐                        »\n",
       "«q_4 -> 4 ┤ √X ├┤ Rz(π/2) ├┤ X ├┤ Rz(1.6441) ├┤ X ├────────────────────────»\n",
       "«         └────┘└─────────┘└───┘└────────────┘└───┘                        »\n",
       "« meas: 5/═════════════════════════════════════════════════════════════════»\n",
       "«                                                                          »\n",
       "«                                  ░ ┌────────────┐┌────┐┌───────────────┐»\n",
       "«q_0 -> 0 ─────────────────────────░─┤ Rz(1.3951) ├┤ √X ├┤ Rz(-0.062963) ├»\n",
       "«                                  ░ ├────────────┤├────┤├───────────────┤»\n",
       "«q_1 -> 1 ──■──────────────────■───░─┤ Rz(1.3951) ├┤ √X ├┤ Rz(-0.062963) ├»\n",
       "«           │                  │   ░ ├────────────┤├────┤├───────────────┤»\n",
       "«q_2 -> 2 ──┼──────────────────┼───░─┤ Rz(1.3951) ├┤ √X ├┤ Rz(-0.062963) ├»\n",
       "«         ┌─┴─┐┌────────────┐┌─┴─┐ ░ ├────────────┤├────┤├───────────────┤»\n",
       "«q_3 -> 3 ┤ X ├┤ Rz(1.6441) ├┤ X ├─░─┤ Rz(1.3951) ├┤ √X ├┤ Rz(-0.062963) ├»\n",
       "«         └───┘└────────────┘└───┘ ░ ├────────────┤├────┤├───────────────┤»\n",
       "«q_4 -> 4 ─────────────────────────░─┤ Rz(1.3951) ├┤ √X ├┤ Rz(-0.062963) ├»\n",
       "«                                  ░ └────────────┘└────┘└───────────────┘»\n",
       "« meas: 5/════════════════════════════════════════════════════════════════»\n",
       "«                                                                         »\n",
       "«         ┌────┐┌──────────┐                                                »\n",
       "«q_0 -> 0 ┤ √X ├┤ Rz(-π/2) ├──■──────────────────■──────────────────────────»\n",
       "«         ├────┤├──────────┤┌─┴─┐┌────────────┐┌─┴─┐                        »\n",
       "«q_1 -> 1 ┤ √X ├┤ Rz(-π/2) ├┤ X ├┤ Rz(1.5558) ├┤ X ├──■──────────────────■──»\n",
       "«         ├────┤├──────────┤└───┘└────────────┘└───┘┌─┴─┐┌────────────┐┌─┴─┐»\n",
       "«q_2 -> 2 ┤ √X ├┤ Rz(-π/2) ├────────────────────────┤ X ├┤ Rz(1.5558) ├┤ X ├»\n",
       "«         ├────┤├──────────┤                        └───┘└────────────┘└───┘»\n",
       "«q_3 -> 3 ┤ √X ├┤ Rz(-π/2) ├──■──────────────────■──────────────────────────»\n",
       "«         ├────┤├──────────┤┌─┴─┐┌────────────┐┌─┴─┐                        »\n",
       "«q_4 -> 4 ┤ √X ├┤ Rz(-π/2) ├┤ X ├┤ Rz(1.5558) ├┤ X ├────────────────────────»\n",
       "«         └────┘└──────────┘└───┘└────────────┘└───┘                        »\n",
       "« meas: 5/══════════════════════════════════════════════════════════════════»\n",
       "«                                                                           »\n",
       "«                                  ░                   ░ ┌─┐            \n",
       "«q_0 -> 0 ─────────────────────────░───────────────────░─┤M├────────────\n",
       "«                                  ░                   ░ └╥┘┌─┐         \n",
       "«q_1 -> 1 ──■──────────────────■───░───────────────────░──╫─┤M├─────────\n",
       "«           │                  │   ░ ┌────┐┌─────────┐ ░  ║ └╥┘┌─┐      \n",
       "«q_2 -> 2 ──┼──────────────────┼───░─┤ √X ├┤ Rz(π/2) ├─░──╫──╫─┤M├──────\n",
       "«         ┌─┴─┐┌────────────┐┌─┴─┐ ░ └────┘└─────────┘ ░  ║  ║ └╥┘┌─┐   \n",
       "«q_3 -> 3 ┤ X ├┤ Rz(1.5558) ├┤ X ├─░───────────────────░──╫──╫──╫─┤M├───\n",
       "«         └───┘└────────────┘└───┘ ░                   ░  ║  ║  ║ └╥┘┌─┐\n",
       "«q_4 -> 4 ─────────────────────────░───────────────────░──╫──╫──╫──╫─┤M├\n",
       "«                                  ░                   ░  ║  ║  ║  ║ └╥┘\n",
       "« meas: 5/════════════════════════════════════════════════╩══╩══╩══╩══╩═\n",
       "«                                                         0  1  2  3  4 </pre>"
      ],
      "text/plain": [
       "global phase: π/4\n",
       "         ┌─────────┐┌────┐┌─────────┐ ░ ┌────────────┐┌────┐┌──────────────┐»\n",
       "q_0 -> 0 ┤ Rz(π/2) ├┤ √X ├┤ Rz(π/2) ├─░─┤ Rz(1.4144) ├┤ √X ├┤ Rz(-0.27104) ├»\n",
       "         ├─────────┤├────┤├─────────┤ ░ ├────────────┤├────┤├──────────────┤»\n",
       "q_1 -> 1 ┤ Rz(π/2) ├┤ √X ├┤ Rz(π/2) ├─░─┤ Rz(1.4144) ├┤ √X ├┤ Rz(-0.27104) ├»\n",
       "         ├─────────┤├────┤├─────────┤ ░ ├────────────┤├────┤├──────────────┤»\n",
       "q_2 -> 2 ┤ Rz(π/2) ├┤ √X ├┤ Rz(π/2) ├─░─┤ Rz(1.4144) ├┤ √X ├┤ Rz(-0.27104) ├»\n",
       "         ├─────────┤├────┤├─────────┤ ░ ├────────────┤├────┤├──────────────┤»\n",
       "q_3 -> 3 ┤ Rz(π/2) ├┤ √X ├┤ Rz(π/2) ├─░─┤ Rz(1.4144) ├┤ √X ├┤ Rz(-0.27104) ├»\n",
       "         ├─────────┤├────┤├─────────┤ ░ ├────────────┤├────┤├──────────────┤»\n",
       "q_4 -> 4 ┤ Rz(π/2) ├┤ √X ├┤ Rz(π/2) ├─░─┤ Rz(1.4144) ├┤ √X ├┤ Rz(-0.27104) ├»\n",
       "         └─────────┘└────┘└─────────┘ ░ └────────────┘└────┘└──────────────┘»\n",
       " meas: 5/═══════════════════════════════════════════════════════════════════»\n",
       "                                                                            »\n",
       "«         ┌────┐┌─────────┐                                                  »\n",
       "«q_0 -> 0 ┤ √X ├┤ Rz(π/2) ├──■───────────────────■───────────────────────────»\n",
       "«         ├────┤├─────────┤┌─┴─┐┌─────────────┐┌─┴─┐                         »\n",
       "«q_1 -> 1 ┤ √X ├┤ Rz(π/2) ├┤ X ├┤ Rz(-2.5975) ├┤ X ├──■───────────────────■──»\n",
       "«         ├────┤├─────────┤└───┘└─────────────┘└───┘┌─┴─┐┌─────────────┐┌─┴─┐»\n",
       "«q_2 -> 2 ┤ √X ├┤ Rz(π/2) ├─────────────────────────┤ X ├┤ Rz(-2.5975) ├┤ X ├»\n",
       "«         ├────┤├─────────┤                         └───┘└─────────────┘└───┘»\n",
       "«q_3 -> 3 ┤ √X ├┤ Rz(π/2) ├──■───────────────────■───────────────────────────»\n",
       "«         ├────┤├─────────┤┌─┴─┐┌─────────────┐┌─┴─┐                         »\n",
       "«q_4 -> 4 ┤ √X ├┤ Rz(π/2) ├┤ X ├┤ Rz(-2.5975) ├┤ X ├─────────────────────────»\n",
       "«         └────┘└─────────┘└───┘└─────────────┘└───┘                         »\n",
       "« meas: 5/═══════════════════════════════════════════════════════════════════»\n",
       "«                                                                            »\n",
       "«                                   ░ ┌─────────────┐┌────┐┌─────────────┐»\n",
       "«q_0 -> 0 ──────────────────────────░─┤ Rz(0.94357) ├┤ √X ├┤ Rz(-2.0169) ├»\n",
       "«                                   ░ ├─────────────┤├────┤├─────────────┤»\n",
       "«q_1 -> 1 ──■───────────────────■───░─┤ Rz(0.94357) ├┤ √X ├┤ Rz(-2.0169) ├»\n",
       "«           │                   │   ░ ├─────────────┤├────┤├─────────────┤»\n",
       "«q_2 -> 2 ──┼───────────────────┼───░─┤ Rz(0.94357) ├┤ √X ├┤ Rz(-2.0169) ├»\n",
       "«         ┌─┴─┐┌─────────────┐┌─┴─┐ ░ ├─────────────┤├────┤├─────────────┤»\n",
       "«q_3 -> 3 ┤ X ├┤ Rz(-2.5975) ├┤ X ├─░─┤ Rz(0.94357) ├┤ √X ├┤ Rz(-2.0169) ├»\n",
       "«         └───┘└─────────────┘└───┘ ░ ├─────────────┤├────┤├─────────────┤»\n",
       "«q_4 -> 4 ──────────────────────────░─┤ Rz(0.94357) ├┤ √X ├┤ Rz(-2.0169) ├»\n",
       "«                                   ░ └─────────────┘└────┘└─────────────┘»\n",
       "« meas: 5/════════════════════════════════════════════════════════════════»\n",
       "«                                                                         »\n",
       "«         ┌────┐┌──────────┐                                                  »\n",
       "«q_0 -> 0 ┤ √X ├┤ Rz(-π/2) ├──■───────────────────■───────────────────────────»\n",
       "«         ├────┤├──────────┤┌─┴─┐┌─────────────┐┌─┴─┐                         »\n",
       "«q_1 -> 1 ┤ √X ├┤ Rz(-π/2) ├┤ X ├┤ Rz(-3.0252) ├┤ X ├──■───────────────────■──»\n",
       "«         ├────┤├──────────┤└───┘└─────────────┘└───┘┌─┴─┐┌─────────────┐┌─┴─┐»\n",
       "«q_2 -> 2 ┤ √X ├┤ Rz(-π/2) ├─────────────────────────┤ X ├┤ Rz(-3.0252) ├┤ X ├»\n",
       "«         ├────┤├──────────┤                         └───┘└─────────────┘└───┘»\n",
       "«q_3 -> 3 ┤ √X ├┤ Rz(-π/2) ├──■───────────────────■───────────────────────────»\n",
       "«         ├────┤├──────────┤┌─┴─┐┌─────────────┐┌─┴─┐                         »\n",
       "«q_4 -> 4 ┤ √X ├┤ Rz(-π/2) ├┤ X ├┤ Rz(-3.0252) ├┤ X ├─────────────────────────»\n",
       "«         └────┘└──────────┘└───┘└─────────────┘└───┘                         »\n",
       "« meas: 5/════════════════════════════════════════════════════════════════════»\n",
       "«                                                                             »\n",
       "«                                   ░ ┌─────────────┐┌────┐┌──────────────┐»\n",
       "«q_0 -> 0 ──────────────────────────░─┤ Rz(-2.1709) ├┤ √X ├┤ Rz(-0.51865) ├»\n",
       "«                                   ░ ├─────────────┤├────┤├──────────────┤»\n",
       "«q_1 -> 1 ──■───────────────────■───░─┤ Rz(-2.1709) ├┤ √X ├┤ Rz(-0.51865) ├»\n",
       "«           │                   │   ░ ├─────────────┤├────┤├──────────────┤»\n",
       "«q_2 -> 2 ──┼───────────────────┼───░─┤ Rz(-2.1709) ├┤ √X ├┤ Rz(-0.51865) ├»\n",
       "«         ┌─┴─┐┌─────────────┐┌─┴─┐ ░ ├─────────────┤├────┤├──────────────┤»\n",
       "«q_3 -> 3 ┤ X ├┤ Rz(-3.0252) ├┤ X ├─░─┤ Rz(-2.1709) ├┤ √X ├┤ Rz(-0.51865) ├»\n",
       "«         └───┘└─────────────┘└───┘ ░ ├─────────────┤├────┤├──────────────┤»\n",
       "«q_4 -> 4 ──────────────────────────░─┤ Rz(-2.1709) ├┤ √X ├┤ Rz(-0.51865) ├»\n",
       "«                                   ░ └─────────────┘└────┘└──────────────┘»\n",
       "« meas: 5/═════════════════════════════════════════════════════════════════»\n",
       "«                                                                          »\n",
       "«         ┌────┐┌─────────┐                                                »\n",
       "«q_0 -> 0 ┤ √X ├┤ Rz(π/2) ├──■──────────────────■──────────────────────────»\n",
       "«         ├────┤├─────────┤┌─┴─┐┌────────────┐┌─┴─┐                        »\n",
       "«q_1 -> 1 ┤ √X ├┤ Rz(π/2) ├┤ X ├┤ Rz(1.6441) ├┤ X ├──■──────────────────■──»\n",
       "«         ├────┤├─────────┤└───┘└────────────┘└───┘┌─┴─┐┌────────────┐┌─┴─┐»\n",
       "«q_2 -> 2 ┤ √X ├┤ Rz(π/2) ├────────────────────────┤ X ├┤ Rz(1.6441) ├┤ X ├»\n",
       "«         ├────┤├─────────┤                        └───┘└────────────┘└───┘»\n",
       "«q_3 -> 3 ┤ √X ├┤ Rz(π/2) ├──■──────────────────■──────────────────────────»\n",
       "«         ├────┤├─────────┤┌─┴─┐┌────────────┐┌─┴─┐                        »\n",
       "«q_4 -> 4 ┤ √X ├┤ Rz(π/2) ├┤ X ├┤ Rz(1.6441) ├┤ X ├────────────────────────»\n",
       "«         └────┘└─────────┘└───┘└────────────┘└───┘                        »\n",
       "« meas: 5/═════════════════════════════════════════════════════════════════»\n",
       "«                                                                          »\n",
       "«                                  ░ ┌────────────┐┌────┐┌───────────────┐»\n",
       "«q_0 -> 0 ─────────────────────────░─┤ Rz(1.3951) ├┤ √X ├┤ Rz(-0.062963) ├»\n",
       "«                                  ░ ├────────────┤├────┤├───────────────┤»\n",
       "«q_1 -> 1 ──■──────────────────■───░─┤ Rz(1.3951) ├┤ √X ├┤ Rz(-0.062963) ├»\n",
       "«           │                  │   ░ ├────────────┤├────┤├───────────────┤»\n",
       "«q_2 -> 2 ──┼──────────────────┼───░─┤ Rz(1.3951) ├┤ √X ├┤ Rz(-0.062963) ├»\n",
       "«         ┌─┴─┐┌────────────┐┌─┴─┐ ░ ├────────────┤├────┤├───────────────┤»\n",
       "«q_3 -> 3 ┤ X ├┤ Rz(1.6441) ├┤ X ├─░─┤ Rz(1.3951) ├┤ √X ├┤ Rz(-0.062963) ├»\n",
       "«         └───┘└────────────┘└───┘ ░ ├────────────┤├────┤├───────────────┤»\n",
       "«q_4 -> 4 ─────────────────────────░─┤ Rz(1.3951) ├┤ √X ├┤ Rz(-0.062963) ├»\n",
       "«                                  ░ └────────────┘└────┘└───────────────┘»\n",
       "« meas: 5/════════════════════════════════════════════════════════════════»\n",
       "«                                                                         »\n",
       "«         ┌────┐┌──────────┐                                                »\n",
       "«q_0 -> 0 ┤ √X ├┤ Rz(-π/2) ├──■──────────────────■──────────────────────────»\n",
       "«         ├────┤├──────────┤┌─┴─┐┌────────────┐┌─┴─┐                        »\n",
       "«q_1 -> 1 ┤ √X ├┤ Rz(-π/2) ├┤ X ├┤ Rz(1.5558) ├┤ X ├──■──────────────────■──»\n",
       "«         ├────┤├──────────┤└───┘└────────────┘└───┘┌─┴─┐┌────────────┐┌─┴─┐»\n",
       "«q_2 -> 2 ┤ √X ├┤ Rz(-π/2) ├────────────────────────┤ X ├┤ Rz(1.5558) ├┤ X ├»\n",
       "«         ├────┤├──────────┤                        └───┘└────────────┘└───┘»\n",
       "«q_3 -> 3 ┤ √X ├┤ Rz(-π/2) ├──■──────────────────■──────────────────────────»\n",
       "«         ├────┤├──────────┤┌─┴─┐┌────────────┐┌─┴─┐                        »\n",
       "«q_4 -> 4 ┤ √X ├┤ Rz(-π/2) ├┤ X ├┤ Rz(1.5558) ├┤ X ├────────────────────────»\n",
       "«         └────┘└──────────┘└───┘└────────────┘└───┘                        »\n",
       "« meas: 5/══════════════════════════════════════════════════════════════════»\n",
       "«                                                                           »\n",
       "«                                  ░                   ░ ┌─┐            \n",
       "«q_0 -> 0 ─────────────────────────░───────────────────░─┤M├────────────\n",
       "«                                  ░                   ░ └╥┘┌─┐         \n",
       "«q_1 -> 1 ──■──────────────────■───░───────────────────░──╫─┤M├─────────\n",
       "«           │                  │   ░ ┌────┐┌─────────┐ ░  ║ └╥┘┌─┐      \n",
       "«q_2 -> 2 ──┼──────────────────┼───░─┤ √X ├┤ Rz(π/2) ├─░──╫──╫─┤M├──────\n",
       "«         ┌─┴─┐┌────────────┐┌─┴─┐ ░ └────┘└─────────┘ ░  ║  ║ └╥┘┌─┐   \n",
       "«q_3 -> 3 ┤ X ├┤ Rz(1.5558) ├┤ X ├─░───────────────────░──╫──╫──╫─┤M├───\n",
       "«         └───┘└────────────┘└───┘ ░                   ░  ║  ║  ║ └╥┘┌─┐\n",
       "«q_4 -> 4 ─────────────────────────░───────────────────░──╫──╫──╫──╫─┤M├\n",
       "«                                  ░                   ░  ║  ║  ║  ║ └╥┘\n",
       "« meas: 5/════════════════════════════════════════════════╩══╩══╩══╩══╩═\n",
       "«                                                         0  1  2  3  4 "
      ]
     },
     "execution_count": 16,
     "metadata": {},
     "output_type": "execute_result"
    }
   ],
   "source": [
    "vqe = data.data_loader(\"./pickles/circ_100.pickle\")\n",
    "circuit = vqe[\"Quantum_circuit\"][0]\n",
    "circuit.draw()"
   ]
  },
  {
   "cell_type": "markdown",
   "metadata": {},
   "source": [
    "#### search for more features"
   ]
  },
  {
   "cell_type": "code",
   "execution_count": 17,
   "metadata": {},
   "outputs": [
    {
     "name": "stdout",
     "output_type": "stream",
     "text": [
      "[OrderedDict({'rz': 87, 'sx': 46, 'cx': 32, 'barrier': 6, 'measure': 5}), 170]\n"
     ]
    },
    {
     "data": {
      "text/plain": [
       "1"
      ]
     },
     "execution_count": 17,
     "metadata": {},
     "output_type": "execute_result"
    }
   ],
   "source": [
    "counts_qubit = circuit.num_qubits\n",
    "counts_gates = circuit.count_ops()\n",
    "size = circuit.size()\n",
    "print([counts_gates, size])\n",
    "circuit.num_unitary_factors()"
   ]
  },
  {
   "cell_type": "markdown",
   "metadata": {},
   "source": [
    "How to encode name of gates, gates operation performs on, ...?\n",
    "\n",
    "predict ideal_expectation"
   ]
  },
  {
   "cell_type": "code",
   "execution_count": 18,
   "metadata": {},
   "outputs": [
    {
     "data": {
      "text/plain": [
       "QubitProperties(t1=6.020256768337207e-05, t2=8.907920429881061e-05, frequency=5080807210.560287)"
      ]
     },
     "execution_count": 18,
     "metadata": {},
     "output_type": "execute_result"
    }
   ],
   "source": [
    "from qiskit.providers.fake_provider import FakeQuitoV2\n",
    "from qiskit.visualization import plot_gate_map, plot_error_map, plot_histogram\n",
    "#plot_gate_map(vqe)\n",
    "\n",
    "backend = FakeQuitoV2()\n",
    "plot_error_map(backend)\n",
    "\n",
    "from qiskit_experiments.library import LocalReadoutError\n",
    "qubits = np.arange(vqe[\"Quantum_circuit\"][0].num_qubits)\n",
    "qubits\n",
    "\n",
    "read_out = LocalReadoutError(qubits)\n",
    "backend.qubit_properties(1)"
   ]
  }
 ],
 "metadata": {
  "kernelspec": {
   "display_name": "Projectseminar",
   "language": "python",
   "name": "python3"
  },
  "language_info": {
   "codemirror_mode": {
    "name": "ipython",
    "version": 3
   },
   "file_extension": ".py",
   "mimetype": "text/x-python",
   "name": "python",
   "nbconvert_exporter": "python",
   "pygments_lexer": "ipython3",
   "version": "3.12.3"
  }
 },
 "nbformat": 4,
 "nbformat_minor": 2
}
